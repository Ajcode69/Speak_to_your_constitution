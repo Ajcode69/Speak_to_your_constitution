{
 "cells": [
  {
   "cell_type": "code",
   "execution_count": 3,
   "id": "d4e6ba4f",
   "metadata": {},
   "outputs": [],
   "source": [
    "from PyPDF2 import PdfReader"
   ]
  },
  {
   "cell_type": "markdown",
   "id": "25806a47",
   "metadata": {},
   "source": [
    "Read pdf and extract text from it"
   ]
  },
  {
   "cell_type": "code",
   "execution_count": 5,
   "id": "0ae50be4",
   "metadata": {},
   "outputs": [],
   "source": [
    "pdf_reader=PdfReader('constitution pdf')"
   ]
  },
  {
   "cell_type": "code",
   "execution_count": 6,
   "id": "e365cf49",
   "metadata": {},
   "outputs": [
    {
     "name": "stdout",
     "output_type": "stream",
     "text": [
      "<PyPDF2._reader.PdfReader object at 0x0000021882F3C3A0>\n"
     ]
    }
   ],
   "source": [
    "print(pdf_reader)"
   ]
  },
  {
   "cell_type": "code",
   "execution_count": 7,
   "id": "59531dd2",
   "metadata": {},
   "outputs": [
    {
     "data": {
      "text/plain": [
       "<PyPDF2._reader.PdfReader at 0x21882f3c3a0>"
      ]
     },
     "execution_count": 7,
     "metadata": {},
     "output_type": "execute_result"
    }
   ],
   "source": [
    "pdf_reader"
   ]
  },
  {
   "cell_type": "code",
   "execution_count": 8,
   "id": "1ff5de1d",
   "metadata": {},
   "outputs": [],
   "source": [
    "text=\"\"\n",
    "\n",
    "for page in pdf_reader.pages:\n",
    "    text+=page.extract_text()\n"
   ]
  },
  {
   "cell_type": "code",
   "execution_count": 9,
   "id": "a44bfcb8",
   "metadata": {},
   "outputs": [
    {
     "name": "stdout",
     "output_type": "stream",
     "text": [
      "46 THIRD CONCEPT , NOVEMBER 2020[The Indian village was portrayed as a “Closed” and “Isolated” system. In a report of the select\n",
      "committee of the house of commons, Charles Metcalf, a British administrator in India, depicted\n",
      "the Indian village as monolithic, atomistic and unchanging entity. He observed, “The Indian\n",
      "village communities are little republics, having nearly everything that they want within themselves\n",
      "and almost independent of any foreign relations.”]Village in India: Myths and Realities\n",
      "Vishwa Anand*\n",
      "*Guest Asst. Prof., Dept of Sociology, Nitishwar\n",
      "Mahavidyalaya, Muzaffarpur.Recent historical, anthropological and\n",
      "sociological studies have shown that\n",
      "Indian villages was hardly ever a\n",
      "republic. It was never self-sufficient. It has links\n",
      "with the wider society. Migration, village\n",
      "economy, movement for work and trade,\n",
      "administrative connection, inter-regional market,\n",
      "inter-village economic and caste links and\n",
      "religious pilgrimage were prevalent in the past\n",
      "and were connecting the village with the\n",
      "neighbouring villages and the wider society.\n",
      "Moreover, new forces of modernisation in the\n",
      "modern period augmented inter-village and rural-\n",
      "urban interaction.\n",
      "What is Village\n",
      "In India, for purpose of government functioning\n",
      "the ‘Rural’ is defined in terms of revenue. For\n",
      "the Indian government, the village means a\n",
      "revenue village. It might include one big village\n",
      "or a cluster of small villages. However, for\n",
      "Census Commission, a village is identified by\n",
      "its name having definite boundaries. The Census\n",
      "of India has defined a village as, “The basic unit\n",
      "for rural areas is the revenue village which has\n",
      "definite surveyed boundaries. The revenue\n",
      "village may comprise several hamlets but the\n",
      "entire village has been treated as one unit for\n",
      "presentation of census data. In un-surveyed areas,\n",
      "like village within forest areas, each habitation\n",
      "area with locally recognized boundaries within\n",
      "each forest range officer’s beat, was treated as\n",
      "one unit.”Determinants of Rural Social Formation\n",
      "Rural sociologists have argued that rural social\n",
      "life or rural way of life is the result of the\n",
      "interplay of few factors. These factors have\n",
      "determined the social formation of village life.\n",
      "Whether caste, clan, kin, polity or economy, all\n",
      "these have been determined by a set of factors\n",
      "which are specific to the village habitation. They\n",
      "are as under:-\n",
      "1.Geographic Environment:\n",
      "a.Location\n",
      "b.Climate\n",
      "c.Topography\n",
      "d.Natural Resources\n",
      "e.Isolation\n",
      "2.Social Environment:\n",
      "a.Predominance of Primary Group contacts.\n",
      "b.Social Differentiation\n",
      "c.Social Stratification\n",
      "d.Migration and Mobility\n",
      "3.Cultural Environment:\n",
      "a.Simplicity of cultural expression\n",
      "b.Social control\n",
      "c.Rural Knowledge and skills\n",
      "d.Level and standards of living.\n",
      "Rural Social Structure in India\n",
      "India is a country of ancient civilization that goes\n",
      "back to Indus valley civilization which flourished\n",
      "during the third millennium B.C. Since then except\n",
      "for a brief interlude during the Rigvedic period\n",
      "(Circa 1500 – 1000 B.C.) when the urban centresTHIRD CONCEPT,  NOVEMBER  2020 47were overrun, rural and urban centres have co-\n",
      "existed in India. People live in the settled\n",
      "villages. Three main types of settlement patterns\n",
      "have been observed in rural areas.\n",
      "1.The most common type is the nucleated village\n",
      "found all over the country. Here, a tight cluster\n",
      "of houses are surrounded by the fields of the\n",
      "villagers. An outlying hamlet or several\n",
      "satellite hamlets are also found to be attached\n",
      "to some villages in this case.\n",
      "2.Secondly, there are linear settlements in some\n",
      "parts of the century. In such settlement, houses\n",
      "are strung out, each surrounded by its own\n",
      "compound. However, there is little to\n",
      "physically demarcate where one village ends\n",
      "and another begins.\n",
      "3.The third type of settlement is simply a\n",
      "scattering of homesteads or clusters of two or\n",
      "three houses. In this case also physical\n",
      "demarcation of villages is not clear. Such\n",
      "settlements are found in hill areas, in the\n",
      "Himalayan foothills, in the highlands of\n",
      "Gujarat and in the Satpura range of\n",
      "Maharashtra.\n",
      "Rural life is characterised by direct relationship\n",
      "of people to nature i.e., land, animal and plant\n",
      "life. Agriculture is their main occupation. Long\n",
      "enduring rural social institution in India are\n",
      "family, kinship, caste, class, and village. They\n",
      "have millennia old historical roots and structures.\n",
      "They encompass the entire field of life: social,\n",
      "economic, political and cultural of the rural\n",
      "people.\n",
      "Village and Economic System\n",
      "The impression that the village in Pre – British\n",
      "India was economically self – sufficient was\n",
      "created by the existence of Jajmani system,\n",
      "payment in grain, and poor communication which\n",
      "limited the flow of goods. The fact that the weekly\n",
      "markets in neighbouring villages existed in\n",
      "traditional India proves that there was\n",
      "dependence on towns for items not locally\n",
      "available such as, silver and gold which was\n",
      "essential for weddings. These markets not only\n",
      "serve on economic purpose but also political,\n",
      "recreational and social purpose. Again, not all\n",
      "the artisan and servicing castes lived within avillage, particularly in the case of the smaller\n",
      "settlements.\n",
      "The proportion of smaller settlements must have\n",
      "been very high during the pre – British period\n",
      "because it was during British rule that large\n",
      "irrigation projects at all India level were\n",
      "undertaken in different parts of the country.\n",
      "Irrigation enabled a large number of people to\n",
      "be supported on a given area. Village studies\n",
      "have shown that certain castes provide services\n",
      "to a number of villages. Villagers have always\n",
      "depended on villagers in nearby villages .The\n",
      "urban population depended on the village\n",
      "produce for its basic needs of the food grain,\n",
      "raw materials for processed food and\n",
      "handicrafts.\n",
      "The extension of the colonial economy to India\n",
      "brought the Indian villagers to the world market\n",
      "for products like jute and cotton. The availability\n",
      "of new economic opportunities during 20th\n",
      "century, especially after First World War, with\n",
      "industrialisation and urbanisation has made the\n",
      "village a part of the wider economic system.\n",
      "M.S.A. Rao has identified three types of urban\n",
      "impact on villagers in India. Firstly, there are\n",
      "villages in which a sizeable number of people\n",
      "have taken employment in Indian cities and even\n",
      "overseas towns. They send money regularly to\n",
      "their families which are left behind in the\n",
      "villages. The money earned from urban\n",
      "employment is used to build fashionable houses\n",
      "in their villages and invested in land and industry.\n",
      "Donations are also made to the establishment of\n",
      "the educational institutions etc. All this increases\n",
      "the social prestige of their families. Thus the\n",
      "urban impact is felt by such villages even though\n",
      "they may not be physically situated near a city\n",
      "or town.\n",
      "The second kind of urban impact is seen in\n",
      "villages which are situated near an industrial\n",
      "town. Their lands ate totally or partially\n",
      "acquired. They receive an influx of immigrant\n",
      "workers which stimulates a demand for houses\n",
      "and market inside the village.\n",
      "The third type of impact on village is the growth\n",
      "of metropolitan cities. As the city expands it sucks\n",
      "the villages lying on the outskirts. Many villages48 THIRD CONCEPT , NOVEMBER 2020lose their land which is used for urban\n",
      "development. The villagers in these landless\n",
      "villages who get cash compensation may invest\n",
      "in land far off places or in commerce or squander\n",
      "the money. The villagers generally seek urban\n",
      "employment. Those villages on the fringe of city\n",
      "whose land has not yet been acquired or\n",
      "particularly acquired may engage in market\n",
      "gardening, dairy farming and poultry keeping.\n",
      "To sum up, we can say that the Indian village\n",
      "was not economically self -sufficient even in the\n",
      "British times. Industrialisation and urbanization,\n",
      "which began during British rule and gained\n",
      "momentum after independence, have made the\n",
      "village a part of the wider economic network.\n",
      "Planned development of the countryside has made\n",
      "further dent in the rural economy.\n",
      "Village and Caste and Kinship System\n",
      "The village consists of a vertical interdependence\n",
      "of castes, i.e., relationship among different castes.\n",
      "It is reflected in Jajmani system. But these vertical\n",
      "ties are cut across by the horizontal ties of cate\n",
      "and kinship, i.e., the relationship within the caste,\n",
      "which extend beyond the village to other village\n",
      "and even towns. One’s relative live in different\n",
      "villages and one has to interact with them on\n",
      "different occasions, like births, marriage and\n",
      "deaths. One may also have to depend on them\n",
      "for help in times of need. In north India where\n",
      "village exogamy exists along with caste\n",
      "endogamy, one has to look outside the village\n",
      "for a marriage partner for one’s son or daughter.\n",
      "In South India where village exogamy is not a\n",
      "rule and marriage between a woman and her\n",
      "mother’s brother or marrying one’s mother’s\n",
      "brother’s daughter is preferred, one may still have\n",
      "to look outside the village for a marriage partner.\n",
      "Since caste endogamy is the rule one’s kin\n",
      "normally belong to one’s caste. Intra caste\n",
      "relations and other caste matters are regulated\n",
      "by a caste panchayat whose members belong to\n",
      "different villages. In pre British India, the\n",
      "horizontal expansion of caste ties was limited\n",
      "by the political boundaries of a number of small\n",
      "kingdoms as well as poor roads and\n",
      "communication. With the unification of the country\n",
      "brought about by the British and the introductionof better roads and railways, cheap postage and\n",
      "printing, there was a rapid spread in intra-caste\n",
      "relations because it was easier to keep in regular\n",
      "touch with each other.\n",
      "Thus we can say that the village has always had\n",
      "ties with other villages and towns for kinship\n",
      "and for caste purpose. This was limited in Pre-\n",
      "British India when communication was poor and\n",
      "small kingdoms existed whose boundaries acted\n",
      "as effective barriers. The horizontal spread of\n",
      "caste ties greatly increased during British rule\n",
      "and since independence it linked the village to a\n",
      "much wider area.\n",
      "Village and Religious System\n",
      "A study of the religion of any Indian village shows\n",
      "a double process of interaction at work between\n",
      "the religious beliefs and practices of the village\n",
      "and the wider Indian civilization. Mckim Marriot\n",
      "taking the concepts of ‘great tradition’ and ‘little\n",
      "tradition’ from Robert Redfield points out that\n",
      "certain elements of ritual and belief are\n",
      "contributions from village life which spread\n",
      "upward to the formation of India’s great\n",
      "Sanskritic tradition, while other elements\n",
      "represent local modification of elements of the\n",
      "great tradition communicated downward to it.\n",
      "Marriot has given the terms ‘Universalisation’\n",
      "and ‘Parochialisation’ respectively to refer to\n",
      "the two aspects of this double process of\n",
      "interaction between the little and great traditions.\n",
      "M.N. Srinivas’s concept of Sanskritization also\n",
      "shows the interaction between religion at the\n",
      "local level and all India Hinduism which is\n",
      "Sanskritic. Sanskritic elements are spread from\n",
      "the higher castes to the lower castes. The spread\n",
      "of Sanskritic theological ideas increased during\n",
      "British rule and after, due to the development of\n",
      "communications and spread of literacy. Western\n",
      "technology – railways, printing press, radio,\n",
      "television and films have helped the spread of\n",
      "Sanskritization. They have popularised the epics,\n",
      "Ramayana and Mahabharata, and other religious\n",
      "stories about the lives of saints like Mira,\n",
      "Tulsidas etc. and made the village a part of the\n",
      "wider universe.\n",
      "Village and Political System\n",
      "Indian villages had been described by British\n",
      "administrators in the early nineteenth century asTHIRD CONCEPT,  NOVEMBER  2020 49‘ little republic’ with their simple form of self-\n",
      "government and almost no interference from the\n",
      "higher political authority except for claiming a\n",
      "share in the produce of the land and demanding\n",
      "young men to serve in the wars. The village\n",
      "functioned normally, unconcerned about who sat\n",
      "on the throne in the kingdom of which they were\n",
      "territorially a part. They were also described as\n",
      "being economically self-sufficient having nearly\n",
      "everything that they wanted within themselves.\n",
      "This description of Indian village is an over\n",
      "simplified one.\n",
      "It was only after gaining independence that some\n",
      "social anthropologists who made intensive field\n",
      "studies of Indian villages began to question the\n",
      "conventional description of the Indian village.\n",
      "On the basis of their findings they demonstrated\n",
      "that the Indian villages has been a part of the\n",
      "wider society and civilization and not ‘little\n",
      "republics’ as described by British administrators.\n",
      "In pre-British India the village was politically\n",
      "autonomous except for paying tax to the local\n",
      "chieftain or the king and providing him young\n",
      "men for his wars is incorrect. The village in pre-\n",
      "British India were not passive in their relation\n",
      "to the state. The villagers were not helpless in\n",
      "their relationship with rulers. Villagers could\n",
      "rebel and support a rival to throne. British rule\n",
      "changed the relationship between the village and\n",
      "the ruler.\n",
      "Political conquest was followed by the development\n",
      "of communications. This enabled the British to\n",
      "establish an effective administration. Government\n",
      "employees like the police, revenue official and other\n",
      "came to the village. The British established a system\n",
      "of law courts. Major disputes and criminal offences\n",
      "had to be settled in courts. This greatly reduced the\n",
      "power of the village panchayat.\n",
      "Since independence, the introduction of\n",
      "parliamentary democracy and adult franchise has\n",
      "made the village even more fully integrated with the\n",
      "wider political system. Villagers not only elect\n",
      "members of local bodies like the gram panchayat\n",
      "but also elect members of the state legislature and\n",
      "parliament. Regional and national political parties\n",
      "are active in the village doing propaganda and\n",
      "mobilising support for their parties. Although thevillage is a political unit with an elected panchayat\n",
      "to run the day to day administration. It is part of the\n",
      "district which is part of the state. The state is a part\n",
      "of the Indian Union. There is interaction between\n",
      "these different levels of the political system.\n",
      "Conclusion\n",
      "To sum up, we can say that, although the village\n",
      "has a definable structure and is a clear entity for the\n",
      "villagers themselves, it is also a sub- system within\n",
      "the larger political, economic, social and religious\n",
      "system in which it exists. In Pre British India the\n",
      "absence of roads and poor communications limited\n",
      "interaction between villages and between villages\n",
      "and towns. Nevertheless, the interaction was there.\n",
      "Even traditionally the village was not self-sufficient\n",
      "economically. Essential items were not produced in\n",
      "most of the villages and they had to visit weekly\n",
      "markets and towns for them. Again every village\n",
      "did not have all the essential artisans and servicing\n",
      "caste and there was mutual dependence between\n",
      "villages for this purpose.\n",
      "Socially too, the village has never been an isolated\n",
      "unit. Kinship and caste ties have extended beyond\n",
      "the village. This is more so in the north, where village\n",
      "exogamy is practised. With the unification of the\n",
      "country under the British rule the barriers to the\n",
      "horizontal spread of caste ties were removed. The\n",
      "building of roads and railways, cheap postage and\n",
      "printing press helped members of a caste spread\n",
      "over a large areas to keep in touch. Since\n",
      "independence the importance of votes in getting\n",
      "one’s candidate elected has further increased the\n",
      "horizontal unity of the caste.\n",
      "As far as the religion of the village is concerned a\n",
      "continuous interaction between the localised little\n",
      "tradition and the great tradition of Indian civilization\n",
      "takes place through the double process of\n",
      "universalisation and parochialisation.\n",
      "Politically, although in pre-British India the king was\n",
      "willing to allow villagers to govern themselves in\n",
      "day to day matter, the payment of a substantial\n",
      "portion of the produce was a symbol of villager’s\n",
      "dependence on the king. Besides, king performed\n",
      "several duties towards the villagers. The British\n",
      "brought most of the country under their rule. The\n",
      "introduction of uniform law and a centralised\n",
      "administration made the village a part of the wider\n",
      "political system of the country. The introduction of50 THIRD CONCEPT , NOVEMBER 2020parliamentary democracy and adult franchise\n",
      "increased further the integration of the village with\n",
      "the different levels of the political system.\n",
      "Thus, there is an integration and continuity between\n",
      "the village and the wider units of Indian society.\n",
      "This is very much visible today but it also existed\n",
      "in traditional India to a large extent.\n",
      "References\n",
      "1.Dube, S.C.1958. India’s Changing Village.\n",
      "London. Routledge and Kegan Paul.\n",
      "2.Desai, A.R. 1961. Rural Sociology in India.\n",
      "Bombay. Popular Prakashan,3.Srinivas, M.N.1968. Social Change in Modern\n",
      "India. University of California Press.\n",
      "4. Singh, Yogendra. 1977. Social Stratification and\n",
      "Change in India. New Delhi. Manohar.\n",
      "5. Singh, Yogendra. 1994. Modernisation of Indian\n",
      "Tradition. Jaipur. Rawat Publication.\n",
      "6.Mandelbaum, D.G. 197., Society in India.\n",
      "Berkeley and Los Angeles\n",
      "7.Gandhi,M.K. 1909. Hind Swaraj, Navjivan\n",
      "Publication. Ahmedabad\n",
      "\n",
      "[While providing a brief overview of the conference on “75 Years of Europe’s Collective Security and\n",
      "Human Rights Systems”, held in the first week of July this year under the aegis of the Diplomatic\n",
      "Academy of Vienna, the authors report about an action plan named ‘Vienna Process: Common Future\n",
      "– One Europe’. Under this framework, the contributing policy-makers and academics are expected to\n",
      "continue engaging in meaningful activities to reflect on the trends and developments comprising he\n",
      "European reality while concurrently affecting the lives of millions. The ultimate avowed objective o f this\n",
      "conference is said to be to contribute to a more just, secure and peaceful European future.  Ed.]Austro-Franco-German Proposal for a European\n",
      "Post-C-19 Recovery\n",
      "Tereza Neuwirthová* &. Mario Holzner**\n",
      "*Leiden University, International Studies program in\n",
      "the EU and IOs affairs specialist that monitors the\n",
      "EU Council affairs from Brussels.\n",
      "**Director of WIIW Institute, at the July Conference\n",
      "held at the Diplomatic Academy in Vienna.The conference named “75 years of Europe’s\n",
      "Collective Security and Human Rights\n",
      "System”, which took place on the 1st of July\n",
      "at the Diplomatic Academy of Vienna, brought\n",
      "together experts related to the reality of the Old\n",
      "Continent and its Union over the course of the past\n",
      "75 years of its post-WWII anti-fascist existence. It\n",
      "was jointly organized by four different entities (the\n",
      "International Institute for Middle East and Balkan\n",
      "Studies IFIMES, Media Platform Modern\n",
      "Diplomacy, Scientific Journal European\n",
      "Perspectives, and Action Platform Culture for\n",
      "Peace) with the support of the Diplomatic Academy\n",
      "of Vienna, numerous academia supporting and\n",
      "media partners.\n",
      "The conference gathered over twenty high ranking\n",
      "speakers from Canada to Australia, and audience\n",
      "physically in the venue while many others attendedonline – from Chile to Far East. The day was filled\n",
      "by three panels focusing on the legacy of WWII,\n",
      "Nuremberg Trials, the European Human Rights\n",
      "Charter and their relevance in the 21st century; on\n",
      "the importance of culture for peace and culture of\n",
      "peace – culture, science, arts, sports – as a way to\n",
      "reinforce a collective identity in Europe; on the\n",
      "importance of accelerating on universalism and pan-\n",
      "European Multilateralism while integrating further the\n",
      "Euro-MED within Europe, or as the Romano Prodi’s\n",
      "EU Commission coined it back in 2000s – “from\n",
      "Morocco to Russia – everything but the institutions”.\n",
      "The event itself was probably the largest physical\n",
      "gathering past the early spring lock down to this very\n",
      "day in this part of Europe. No wonder that it marked\n",
      "a launch of the political rethi nk and recalibration\n",
      "named – Vienna Process.\n",
      "The panel under the name “Future to Europe: Is\n",
      "there any alternative to universal and pan-European\n",
      "Multilateralism? Revisiting and recalibrating the\n",
      "Euro-MED and cross-continental affairs”, was\n",
      "focused on discussing the determinants of Europe’s\n",
      "relations with its strategic Euro-MED and Eurasian\n",
      "neighborhood, the possible pan-European political\n"
     ]
    }
   ],
   "source": [
    "print(text)"
   ]
  },
  {
   "cell_type": "markdown",
   "id": "d0d0f393",
   "metadata": {},
   "source": [
    "Split text into chunks for embedding"
   ]
  },
  {
   "cell_type": "code",
   "execution_count": 10,
   "id": "384e0fbe",
   "metadata": {},
   "outputs": [],
   "source": [
    "from langchain.text_splitter import CharacterTextSplitter"
   ]
  },
  {
   "cell_type": "code",
   "execution_count": 16,
   "id": "ad0a61a6",
   "metadata": {},
   "outputs": [],
   "source": [
    "text_splitter=CharacterTextSplitter(separator=\"\\n\",\n",
    "                                   chunk_size=1000,\n",
    "                                   chunk_overlap=200)"
   ]
  },
  {
   "cell_type": "code",
   "execution_count": 17,
   "id": "f2551b89",
   "metadata": {},
   "outputs": [],
   "source": [
    "chunks=text_splitter.split_text(text)"
   ]
  },
  {
   "cell_type": "code",
   "execution_count": 18,
   "id": "c891d216",
   "metadata": {},
   "outputs": [
    {
     "data": {
      "text/plain": [
       "25"
      ]
     },
     "execution_count": 18,
     "metadata": {},
     "output_type": "execute_result"
    }
   ],
   "source": [
    "len(chunks)"
   ]
  },
  {
   "cell_type": "markdown",
   "id": "4dd6c461",
   "metadata": {},
   "source": [
    "Embeddings and knowledge base creation for semantic/simiarity search"
   ]
  },
  {
   "cell_type": "code",
   "execution_count": 19,
   "id": "726c2db0",
   "metadata": {},
   "outputs": [],
   "source": [
    "from langchain.embeddings.openai import OpenAIEmbeddings\n",
    "from langchain.vectorstores import FAISS\n",
    "\n",
    "embeddings=OpenAIEmbeddings(openai_api_key='your key')\n",
    "knowledge_base=FAISS.from_texts(chunks, embeddings)"
   ]
  },
  {
   "cell_type": "code",
   "execution_count": 20,
   "id": "ef931e14",
   "metadata": {},
   "outputs": [
    {
     "data": {
      "text/plain": [
       "<langchain.vectorstores.faiss.FAISS at 0x218852f97e0>"
      ]
     },
     "execution_count": 20,
     "metadata": {},
     "output_type": "execute_result"
    }
   ],
   "source": [
    "knowledge_base"
   ]
  },
  {
   "cell_type": "code",
   "execution_count": 26,
   "id": "df4dc59c",
   "metadata": {},
   "outputs": [
    {
     "name": "stdout",
     "output_type": "stream",
     "text": [
      "how has village been defined by census of india\n"
     ]
    }
   ],
   "source": [
    "question=input()"
   ]
  },
  {
   "cell_type": "code",
   "execution_count": 27,
   "id": "23b47c36",
   "metadata": {},
   "outputs": [],
   "source": [
    "#performing similarity search on document to get relevant data from knowledge base\n",
    "\n",
    "documents=knowledge_base.similarity_search(question)"
   ]
  },
  {
   "cell_type": "markdown",
   "id": "fdbca9dc",
   "metadata": {},
   "source": [
    "Questions and answers"
   ]
  },
  {
   "cell_type": "code",
   "execution_count": 28,
   "id": "f8488300",
   "metadata": {},
   "outputs": [],
   "source": [
    "from langchain.chains.question_answering import load_qa_chain\n",
    "from langchain.llms import OpenAI\n",
    "llm=OpenAI(openai_api_key='your key', temperature=0.8)"
   ]
  },
  {
   "cell_type": "code",
   "execution_count": 29,
   "id": "3d8cf817",
   "metadata": {},
   "outputs": [
    {
     "data": {
      "text/plain": [
       "' The Census of India has defined a village as, “The basic unit for rural areas is the revenue village which has definite surveyed boundaries. The revenue village may comprise several hamlets but the entire village has been treated as one unit for presentation of census data. In un-surveyed areas, like village within forest areas, each habitation area with locally recognized boundaries within each forest range officer’s beat, was treated as one unit.”'"
      ]
     },
     "execution_count": 29,
     "metadata": {},
     "output_type": "execute_result"
    }
   ],
   "source": [
    "chain=load_qa_chain(llm=llm, chain_type='stuff')\n",
    "\n",
    "chain.run(input_documents=documents, question=question)"
   ]
  },
  {
   "cell_type": "code",
   "execution_count": null,
   "id": "db030e00",
   "metadata": {},
   "outputs": [],
   "source": []
  }
 ],
 "metadata": {
  "kernelspec": {
   "display_name": "Python 3 (ipykernel)",
   "language": "python",
   "name": "python3"
  },
  "language_info": {
   "codemirror_mode": {
    "name": "ipython",
    "version": 3
   },
   "file_extension": ".py",
   "mimetype": "text/x-python",
   "name": "python",
   "nbconvert_exporter": "python",
   "pygments_lexer": "ipython3",
   "version": "3.10.9"
  }
 },
 "nbformat": 4,
 "nbformat_minor": 5
}
