{
 "cells": [
  {
   "cell_type": "code",
   "execution_count": null,
   "id": "d4e6ba4f",
   "metadata": {},
   "outputs": [],
   "source": [
    "from PyPDF2 import PdfReader"
   ]
  },
  {
   "cell_type": "markdown",
   "id": "25806a47",
   "metadata": {},
   "source": [
    "Read pdf and extract text from it"
   ]
  },
  {
   "cell_type": "code",
   "execution_count": null,
   "id": "0ae50be4",
   "metadata": {},
   "outputs": [],
   "source": [
    "pdf_reader=PdfReader('constitution pdf')"
   ]
  },
  {
   "cell_type": "code",
   "execution_count": null,
   "id": "e365cf49",
   "metadata": {},
   "outputs": [],
   "source": [
    "print(pdf_reader)"
   ]
  },
  {
   "cell_type": "code",
   "execution_count": null,
   "id": "59531dd2",
   "metadata": {},
   "outputs": [],
   "source": [
    "pdf_reader"
   ]
  },
  {
   "cell_type": "code",
   "execution_count": null,
   "id": "1ff5de1d",
   "metadata": {},
   "outputs": [],
   "source": [
    "text=\"\"\n",
    "\n",
    "for page in pdf_reader.pages:\n",
    "    text+=page.extract_text()\n"
   ]
  },
  {
   "cell_type": "code",
   "execution_count": null,
   "id": "a44bfcb8",
   "metadata": {},
   "outputs": [],
   "source": [
    "print(text)"
   ]
  },
  {
   "cell_type": "markdown",
   "id": "d0d0f393",
   "metadata": {},
   "source": [
    "Split text into chunks for embedding"
   ]
  },
  {
   "cell_type": "code",
   "execution_count": null,
   "id": "384e0fbe",
   "metadata": {},
   "outputs": [],
   "source": [
    "from langchain.text_splitter import CharacterTextSplitter"
   ]
  },
  {
   "cell_type": "code",
   "execution_count": null,
   "id": "ad0a61a6",
   "metadata": {},
   "outputs": [],
   "source": [
    "text_splitter=CharacterTextSplitter(separator=\"\\n\",\n",
    "                                   chunk_size=1000,\n",
    "                                   chunk_overlap=200)"
   ]
  },
  {
   "cell_type": "code",
   "execution_count": null,
   "id": "f2551b89",
   "metadata": {},
   "outputs": [],
   "source": [
    "chunks=text_splitter.split_text(text)"
   ]
  },
  {
   "cell_type": "code",
   "execution_count": null,
   "id": "c891d216",
   "metadata": {},
   "outputs": [],
   "source": [
    "len(chunks)"
   ]
  },
  {
   "cell_type": "markdown",
   "id": "4dd6c461",
   "metadata": {},
   "source": [
    "Embeddings and knowledge base creation for semantic/simiarity search"
   ]
  },
  {
   "cell_type": "code",
   "execution_count": null,
   "id": "726c2db0",
   "metadata": {},
   "outputs": [],
   "source": [
    "from langchain.embeddings.openai import OpenAIEmbeddings\n",
    "from langchain.vectorstores import FAISS\n",
    "\n",
    "embeddings=OpenAIEmbeddings(openai_api_key='your key')\n",
    "knowledge_base=FAISS.from_texts(chunks, embeddings)"
   ]
  },
  {
   "cell_type": "code",
   "execution_count": null,
   "id": "ef931e14",
   "metadata": {},
   "outputs": [],
   "source": [
    "knowledge_base"
   ]
  },
  {
   "cell_type": "code",
   "execution_count": null,
   "id": "df4dc59c",
   "metadata": {},
   "outputs": [],
   "source": [
    "question=input()"
   ]
  },
  {
   "cell_type": "code",
   "execution_count": null,
   "id": "23b47c36",
   "metadata": {},
   "outputs": [],
   "source": [
    "#performing similarity search on document to get relevant data from knowledge base\n",
    "\n",
    "documents=knowledge_base.similarity_search(question)"
   ]
  },
  {
   "cell_type": "markdown",
   "id": "fdbca9dc",
   "metadata": {},
   "source": [
    "Questions and answers"
   ]
  },
  {
   "cell_type": "code",
   "execution_count": null,
   "id": "f8488300",
   "metadata": {},
   "outputs": [],
   "source": [
    "from langchain.chains.question_answering import load_qa_chain\n",
    "from langchain.llms import OpenAI\n",
    "llm=OpenAI(openai_api_key='your key', temperature=0.8)"
   ]
  },
  {
   "cell_type": "code",
   "execution_count": null,
   "id": "3d8cf817",
   "metadata": {},
   "outputs": [],
   "source": [
    "chain=load_qa_chain(llm=llm, chain_type='stuff')\n",
    "\n",
    "chain.run(input_documents=documents, question=question)"
   ]
  },
  {
   "cell_type": "code",
   "execution_count": null,
   "id": "db030e00",
   "metadata": {},
   "outputs": [],
   "source": []
  }
 ],
 "metadata": {
  "kernelspec": {
   "display_name": "Python 3 (ipykernel)",
   "language": "python",
   "name": "python3"
  },
  "language_info": {
   "codemirror_mode": {
    "name": "ipython",
    "version": 3
   },
   "file_extension": ".py",
   "mimetype": "text/x-python",
   "name": "python",
   "nbconvert_exporter": "python",
   "pygments_lexer": "ipython3",
   "version": "3.10.9"
  }
 },
 "nbformat": 4,
 "nbformat_minor": 5
}
